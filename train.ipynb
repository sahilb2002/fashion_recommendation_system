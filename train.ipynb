{
 "cells": [
  {
   "cell_type": "markdown",
   "metadata": {},
   "source": [
    "# Train the model to identify the category of cloth"
   ]
  },
  {
   "cell_type": "code",
   "execution_count": 1,
   "metadata": {},
   "outputs": [
    {
     "name": "stderr",
     "output_type": "stream",
     "text": [
      "2022-07-01 16:32:42.708899: W tensorflow/stream_executor/platform/default/dso_loader.cc:64] Could not load dynamic library 'libcudart.so.11.0'; dlerror: libcudart.so.11.0: cannot open shared object file: No such file or directory; LD_LIBRARY_PATH: /home/sahil/myfiles/auv/vslam/orb_slam/devel/lib:/home/sahil/myfiles/auv/tarang_ws/devel/lib:/home/sahil/myfiles/auv/training/assing_1/work/devel/lib:/opt/ros/noetic/lib\n",
      "2022-07-01 16:32:42.708938: I tensorflow/stream_executor/cuda/cudart_stub.cc:29] Ignore above cudart dlerror if you do not have a GPU set up on your machine.\n",
      "/usr/lib/python3/dist-packages/requests/__init__.py:89: RequestsDependencyWarning: urllib3 (1.26.9) or chardet (3.0.4) doesn't match a supported version!\n",
      "  warnings.warn(\"urllib3 ({}) or chardet ({}) doesn't match a supported \"\n"
     ]
    }
   ],
   "source": [
    "import tensorflow as tf\n",
    "from tensorflow import keras\n",
    "from keras import layers, regularizers, Sequential, optimizers, callbacks, models, backend\n",
    "from keras.preprocessing.image import ImageDataGenerator\n",
    "\n",
    "import os\n",
    "import pandas as pd"
   ]
  },
  {
   "cell_type": "code",
   "execution_count": 2,
   "metadata": {},
   "outputs": [
    {
     "data": {
      "text/html": [
       "<div>\n",
       "<style scoped>\n",
       "    .dataframe tbody tr th:only-of-type {\n",
       "        vertical-align: middle;\n",
       "    }\n",
       "\n",
       "    .dataframe tbody tr th {\n",
       "        vertical-align: top;\n",
       "    }\n",
       "\n",
       "    .dataframe thead th {\n",
       "        text-align: right;\n",
       "    }\n",
       "</style>\n",
       "<table border=\"1\" class=\"dataframe\">\n",
       "  <thead>\n",
       "    <tr style=\"text-align: right;\">\n",
       "      <th></th>\n",
       "      <th>image_name</th>\n",
       "      <th>category_label</th>\n",
       "    </tr>\n",
       "  </thead>\n",
       "  <tbody>\n",
       "    <tr>\n",
       "      <th>0</th>\n",
       "      <td>../dataset/img/Cities_Graphic_Boxy_Tee/img_000...</td>\n",
       "      <td>6</td>\n",
       "    </tr>\n",
       "    <tr>\n",
       "      <th>1</th>\n",
       "      <td>../dataset/img/Pleated_A-Line_Dress/img_000000...</td>\n",
       "      <td>8</td>\n",
       "    </tr>\n",
       "    <tr>\n",
       "      <th>2</th>\n",
       "      <td>../dataset/img/Longline_Denim_Jacket/img_00000...</td>\n",
       "      <td>3</td>\n",
       "    </tr>\n",
       "    <tr>\n",
       "      <th>3</th>\n",
       "      <td>../dataset/img/Fuzzy_Plaid_Cardigan/img_000000...</td>\n",
       "      <td>1</td>\n",
       "    </tr>\n",
       "    <tr>\n",
       "      <th>4</th>\n",
       "      <td>../dataset/img/V-Neck_Tank/img_00000053.jpg</td>\n",
       "      <td>5</td>\n",
       "    </tr>\n",
       "  </tbody>\n",
       "</table>\n",
       "</div>"
      ],
      "text/plain": [
       "                                          image_name category_label\n",
       "0  ../dataset/img/Cities_Graphic_Boxy_Tee/img_000...              6\n",
       "1  ../dataset/img/Pleated_A-Line_Dress/img_000000...              8\n",
       "2  ../dataset/img/Longline_Denim_Jacket/img_00000...              3\n",
       "3  ../dataset/img/Fuzzy_Plaid_Cardigan/img_000000...              1\n",
       "4        ../dataset/img/V-Neck_Tank/img_00000053.jpg              5"
      ]
     },
     "execution_count": 2,
     "metadata": {},
     "output_type": "execute_result"
    }
   ],
   "source": [
    "# Load the data\n",
    "data_df = pd.read_csv('../dataset/anno/img_label2.csv',sep=',')\n",
    "data_df['category_label'] = data_df['category_label'].astype(str)\n",
    "data_df.head()"
   ]
  },
  {
   "cell_type": "code",
   "execution_count": 3,
   "metadata": {},
   "outputs": [
    {
     "name": "stdout",
     "output_type": "stream",
     "text": [
      "Found 51845 validated image filenames belonging to 11 classes.\n",
      "Found 12961 validated image filenames belonging to 11 classes.\n"
     ]
    }
   ],
   "source": [
    "# construct the data generators\n",
    "input_size = (224,224)\n",
    "num_class = 11\n",
    "\n",
    "datagen = ImageDataGenerator(validation_split=0.2, rescale=1./255, rotation_range=20, zoom_range=0.2)\n",
    "\n",
    "train_data_gen = datagen.flow_from_dataframe(\n",
    "    data_df, x_col='image_name',y_col = 'category_label',\n",
    "    subset='training',target_size=input_size,directory='.',\n",
    "    class_mode='categorical',batch_size=32, seed=42\n",
    ")\n",
    "\n",
    "val_data_gen = datagen.flow_from_dataframe(\n",
    "    data_df, x_col='image_name',y_col = 'category_label',\n",
    "    subset='validation',target_size=input_size,directory='.',\n",
    "    class_mode='categorical',batch_size=32, seed=42\n",
    ")"
   ]
  },
  {
   "cell_type": "code",
   "execution_count": 5,
   "metadata": {},
   "outputs": [
    {
     "data": {
      "text/plain": [
       "{'0': 0,\n",
       " '1': 1,\n",
       " '10': 2,\n",
       " '2': 3,\n",
       " '3': 4,\n",
       " '4': 5,\n",
       " '5': 6,\n",
       " '6': 7,\n",
       " '7': 8,\n",
       " '8': 9,\n",
       " '9': 10}"
      ]
     },
     "execution_count": 5,
     "metadata": {},
     "output_type": "execute_result"
    }
   ],
   "source": [
    "# get label mapping\n",
    "label_map = train_data_gen.class_indices\n",
    "print(label_map)\n",
    "label_map = [0,1,10,2,3,4,5,6,7,8,9]"
   ]
  },
  {
   "cell_type": "code",
   "execution_count": null,
   "metadata": {},
   "outputs": [],
   "source": [
    "# choose the base model, Xception model is choosen here\n",
    "encoder = keras.applications.Xception(weights='imagenet', include_top=False, input_shape=(224,224,3))\n",
    "for layer in encoder.layers:\n",
    "    layer.trainable = True\n",
    "print(encoder.output_shape)\n",
    "print(len(encoder.layers))\n",
    "keras.utils.plot_model(encoder, show_shapes=True, show_layer_names=True)\n"
   ]
  },
  {
   "cell_type": "code",
   "execution_count": 16,
   "metadata": {},
   "outputs": [
    {
     "name": "stdout",
     "output_type": "stream",
     "text": [
      "WARNING:tensorflow:Please add `keras.layers.InputLayer` instead of `keras.Input` to Sequential model. `keras.Input` is intended to be used by Functional model.\n",
      "Model: \"classifier\"\n",
      "_________________________________________________________________\n",
      "Layer (type)                 Output Shape              Param #   \n",
      "=================================================================\n",
      "global_average_pooling2d_3 ( (None, 2048)              0         \n",
      "_________________________________________________________________\n",
      "dense_7 (Dense)              (None, 512)               1049088   \n",
      "_________________________________________________________________\n",
      "dense_8 (Dense)              (None, 128)               65664     \n",
      "_________________________________________________________________\n",
      "dropout_3 (Dropout)          (None, 128)               0         \n",
      "_________________________________________________________________\n",
      "dense_9 (Dense)              (None, 11)                1419      \n",
      "=================================================================\n",
      "Total params: 1,116,171\n",
      "Trainable params: 1,116,171\n",
      "Non-trainable params: 0\n",
      "_________________________________________________________________\n"
     ]
    }
   ],
   "source": [
    "# build a classifier\n",
    "inp_classifier = Sequential([\n",
    "\n",
    "    layers.Input(shape = encoder.output_shape[1:]),\n",
    "    layers.GlobalAveragePooling2D(),\n",
    "\n",
    "    layers.Dense(512, activation='relu', kernel_regularizer = regularizers.l2(1e-5)),\n",
    "    # layers.Dropout(0.1),\n",
    "    \n",
    "    layers.Dense(128, activation='relu', kernel_regularizer = regularizers.l2(1e-7)),\n",
    "    layers.Dropout(0.1),\n",
    "    \n",
    "    layers.Dense(num_class, activation='softmax')\n",
    "    \n",
    "], name='classifier' )\n",
    "\n",
    "inp_classifier.summary()\n"
   ]
  },
  {
   "cell_type": "code",
   "execution_count": 17,
   "metadata": {},
   "outputs": [
    {
     "data": {
      "text/plain": [
       "24680971"
      ]
     },
     "execution_count": 17,
     "metadata": {},
     "output_type": "execute_result"
    }
   ],
   "source": [
    "# stack the encoder and classifier to create the model\n",
    "model = tf.keras.Model(inputs=encoder.input, outputs=inp_classifier(encoder.output),name = 'complete_model')\n",
    "model.count_params()"
   ]
  },
  {
   "cell_type": "code",
   "execution_count": 18,
   "metadata": {},
   "outputs": [],
   "source": [
    "# compile the model\n",
    "model_save_path = '/content/drive/MyDrive/hopnob/model_v7_0t'\n",
    "ckp = callbacks.ModelCheckpoint(filepath=model_save_path, save_best_only=True, monitor='val_accuracy')\n",
    "\n",
    "opt = tf.keras.optimizers.Adam(learning_rate=0.005)\n",
    "model.compile(optimizer='adam', loss='categorical_crossentropy', metrics=['accuracy'])\n"
   ]
  },
  {
   "cell_type": "code",
   "execution_count": null,
   "metadata": {},
   "outputs": [],
   "source": [
    "# train the mdel\n",
    "model.fit(train_data_gen, epochs=10, validation_data=val_data_gen, callbacks=[ckp])"
   ]
  },
  {
   "cell_type": "markdown",
   "metadata": {},
   "source": [
    "I got nearly 65% percent accuracy on the validation set using this model"
   ]
  }
 ],
 "metadata": {
  "kernelspec": {
   "display_name": "Python 3.8.10 64-bit",
   "language": "python",
   "name": "python3"
  },
  "language_info": {
   "codemirror_mode": {
    "name": "ipython",
    "version": 3
   },
   "file_extension": ".py",
   "mimetype": "text/x-python",
   "name": "python",
   "nbconvert_exporter": "python",
   "pygments_lexer": "ipython3",
   "version": "3.8.10"
  },
  "orig_nbformat": 4,
  "vscode": {
   "interpreter": {
    "hash": "916dbcbb3f70747c44a77c7bcd40155683ae19c65e1c03b4aa3499c5328201f1"
   }
  }
 },
 "nbformat": 4,
 "nbformat_minor": 2
}
